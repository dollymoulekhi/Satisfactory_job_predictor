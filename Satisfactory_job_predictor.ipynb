{
 "cells": [
  {
   "cell_type": "markdown",
   "metadata": {},
   "source": [
    "# Problem Statement:\n",
    "\n",
    "**One of the biggest challenges for Blue Collar Workforce is to be able to make an informed choice while selecting a job opportunity. How can we use Data Analytics to help the blue-collar candidates make a better choice?**\n",
    "\n",
    "So for solving this problem let’s take an example:\n",
    "\n",
    "Suppose: We have collected the data top 100 companies and the description of columns are like this:\n",
    "\n",
    "\n",
    "**company :** This represents the name of the company.                                                                   \n",
    "**industry :** Company belongs to which industry.                                                                           \n",
    "**region :** Where did the company exist.                                                                                \n",
    "**profit :** Yearly profit.                                                                                              \n",
    "**per_blue_collar:** how many blue-collar workers work there out of the total workers of the company.   \n",
    "**avg_salary :** What average salary is given to the Blue-collar labor in these companies.                            \n",
    "**satisfaction_rate :** This column will have the percentage of statisfies people in that perticular firm.                 \n"
   ]
  },
  {
   "cell_type": "markdown",
   "metadata": {},
   "source": [
    "# Importing Libraries"
   ]
  },
  {
   "cell_type": "code",
   "execution_count": 26,
   "metadata": {},
   "outputs": [],
   "source": [
    "# importing the required libraries\n",
    "import numpy as np\n",
    "import pandas as pd\n",
    "import matplotlib.pyplot as plt"
   ]
  },
  {
   "cell_type": "raw",
   "metadata": {},
   "source": [
    "# reading the dataset\n",
    "df=pd.read_csv('companies.csv')\n",
    "df.head()"
   ]
  },
  {
   "cell_type": "markdown",
   "metadata": {},
   "source": [
    "So this a imaginery created data by me, and we will work on this data for solving the problem:\n",
    "\n",
    "|company|industry|region|profit|per_blue_collar|avg_salary|satisfaction_rate|\n",
    "|-------|------|------|------|-----------------------|----------|-----------------|\n",
    "|A|Construction|Central India|192261.83|30|20000|80|\n",
    "|B|Agriculture|East India|191792.06|60|18000|85|\n",
    "|C|Chemical Industry|North India|191050.39|55|23000|40|\n",
    "|D|Health Survices|South India|182901.99|59|22000|74|\n",
    "|E|Mechanical and Electrical Engineering|North India|182901.99|74|16000|72|\n",
    "\n",
    "**Now the Satisfaction_rate column represts how many percentage of employees are satisfied in that company** and it depends on other parameters or we can say on other columns. \n",
    "\n",
    "**We are assuming that the satisfaction rate depends on other columns in the form of MultiLinear Regression**\n",
    "\n",
    "e.g:  **y= b0 + b1x1 + b2x2 + b3x3 + b4x4 + b5x5 + b6x6**\n",
    "\n",
    "\n",
    "So that the Blue Collar Workforce is to be able to make an informed choice while selecting a job opportunity we will **predict whether he will be satisfied in that or not**\n",
    "\n"
   ]
  },
  {
   "cell_type": "markdown",
   "metadata": {},
   "source": [
    "# Our approch to the problem:\n",
    "\n",
    "**our end goal is if the person is giving some details about company like, profit, avg_salary, per_blue_collar than we will be able to predict whether he will be satisfied in this job or not.**\n",
    "\n",
    "\n",
    "**Now the satisfaction_rate column represts how many percentage of employees are satisfied in that company** and it depends on other parameters or we can say on other columns. \n",
    "\n",
    "**We are assuming that the satisfaction rate depends on other columns in the form of MultiLinear Regression**\n",
    "\n",
    "e.g:  **y= b0 + b1x1 + b2x2 + b3x3 + b4x4 + b5x5 + b6x6**\n",
    "\n",
    "\n",
    "## Steps:\n",
    "- **Seperating features and target values in the data set.**\n",
    "  - In target values we are having satisfaction_rate in percentage.\n",
    "  - Lets covert it into 3 categories like :\n",
    "    - **Satisfied**- if satisfaction_rate>=65\n",
    "    - **Neutral**  - if satisfaction rate < 65 and satisfaction_rate> =50\n",
    "    - **Unsatisfied** - if satisfaction_rate< 50 \n",
    "    \n",
    "    \n",
    "- **Splitting training and test dataset.**\n",
    "  - Training dataset will be used to train the model, test will used to test the model for satisfaction column.\n",
    "  \n",
    "\n",
    "- **Training the model by using LinearRegression.**\n",
    "\n",
    "\n",
    "- **Testing the model by using predict function on the model.**\n",
    "  - Got y_predicted values.\n",
    "\n",
    "\n",
    "- **Confusion matrix: For checking the accuracy of the model.**\n",
    "  - If the predicted values(y_predicted) are close enough to the real values (y_test) than model is highly accurate \n",
    "\n",
    "\n",
    "- **Now our model is accurate Lets come back to the question**\n",
    "  - Suppose a person is thinking of joining a firm but not sure whether he will be satisfied or not.                       \n",
    "  - **He is having some data of the firm like, profit, avg_salary, per_blue_collar now if he will pass this data to predict function it will give th outcome like Staisfied, neutral or unsatisfied.**\n",
    "  \n",
    "\n",
    "**Hence we have created a model which will slove the probelm for the blue_collar_workers and will give a surety to them before taking any steps**\n",
    "\n",
    "**If our model is will not give accurate result we will use another regression**\n",
    "\n",
    "    "
   ]
  },
  {
   "cell_type": "markdown",
   "metadata": {},
   "source": [
    "# Seperating features and target values from the data set:\n",
    "**Steps to follow:**\n",
    "\n",
    "- Removing the Company, Industry and Region column as they are not contributing too much for the satisfaction rate.\n",
    "- Feature values are: Profit, Per_Blue_collar_workers, avg_salary.\n",
    "- Target values: Satisfaction_rate\n",
    "\n"
   ]
  },
  {
   "cell_type": "raw",
   "metadata": {},
   "source": [
    "x=df.iloc[:,3:6].values\n",
    "y=df.iloc[:,-1]"
   ]
  },
  {
   "cell_type": "markdown",
   "metadata": {},
   "source": [
    "Now in y values we are having percentage:\n",
    "Lets create a Function which will divide all the percentages into 3 categories :\n",
    "\n",
    "- **if percentage>=65 than on average workers are satisfied, which we will represent by 2**\n",
    "- **if percentage>=50 and percentage<65 than on average workers are neutral, which we will represent by 1** \n",
    "- **if percentage<50 than on average workers are unsatisfied, which we will represent by 0**\n",
    "\n",
    "|percentage|categories| representation|\n",
    "|----------|----------|---------------|\n",
    "|percentage>65|Satisfied| 2|\n",
    "|50<=percentage<65|Neutral|1|\n",
    "|percentage<50|Unsatisfied|0|\n"
   ]
  },
  {
   "cell_type": "code",
   "execution_count": 22,
   "metadata": {},
   "outputs": [],
   "source": [
    "# Creating function\n",
    "def per_converter(per):\n",
    "    if per>= 65:\n",
    "        return 2\n",
    "    elif per>=50 and per<65 :\n",
    "        return 1\n",
    "    else:\n",
    "        return 0"
   ]
  },
  {
   "cell_type": "code",
   "execution_count": 23,
   "metadata": {},
   "outputs": [
    {
     "data": {
      "text/plain": [
       "0    80\n",
       "1    40\n",
       "2    20\n",
       "3    67\n",
       "4    55\n",
       "dtype: int64"
      ]
     },
     "execution_count": 23,
     "metadata": {},
     "output_type": "execute_result"
    }
   ],
   "source": [
    "# creating a series for testing the function\n",
    "a=pd.Series([80,40,20,67,55])\n",
    "a"
   ]
  },
  {
   "cell_type": "code",
   "execution_count": 25,
   "metadata": {},
   "outputs": [
    {
     "data": {
      "text/plain": [
       "0    2\n",
       "1    0\n",
       "2    0\n",
       "3    2\n",
       "4    1\n",
       "dtype: int64"
      ]
     },
     "execution_count": 25,
     "metadata": {},
     "output_type": "execute_result"
    }
   ],
   "source": [
    "# applying the function \n",
    "new_a=a.apply(per_converter)\n",
    "new_a"
   ]
  },
  {
   "cell_type": "markdown",
   "metadata": {},
   "source": [
    "**So we will apply this function on the y values or the label column.**\n"
   ]
  },
  {
   "cell_type": "raw",
   "metadata": {},
   "source": [
    "y=y.apply(per_converter)"
   ]
  },
  {
   "cell_type": "markdown",
   "metadata": {},
   "source": [
    "So the values are converted.\n",
    "\n",
    "# Splitting the datset into training set and testing set"
   ]
  },
  {
   "cell_type": "raw",
   "metadata": {},
   "source": [
    "from sklearn.model_selection import train_test_split\n",
    "x_train,x_test,y_train,y_test=train_test_split(x,y,test_size=.2,random_state=1)"
   ]
  },
  {
   "cell_type": "raw",
   "metadata": {},
   "source": [
    "print(x_train[:5],'\\n','-'*50)\n",
    "print(y_train[:5])"
   ]
  },
  {
   "cell_type": "raw",
   "metadata": {},
   "source": [
    "print(x_test[:5],'\\n','-'*50)\n",
    "print(y_test[:5])"
   ]
  },
  {
   "cell_type": "markdown",
   "metadata": {},
   "source": [
    "# Using Multiple Linear Regression Model\n",
    "\n",
    "**Remember our Goal**\n",
    "\n",
    "**How can we use Data Analytics to help the blue-collar candidates make a better choice?**\n",
    "\n",
    "**We are assuming that the satisfaction rate depends on other columns in the form of MultiLinear Regression**\n",
    "\n",
    "e.g:  **y=b0 + b1x1 + b2x2 + b3x3 + b4x4 + b5x5 + b6x6**\n",
    "\n",
    "So that the Blue Collar Workforce is to be able to make an informed choice while selecting a job opportunity **we will predict whether the worker will be satisfied in that job or not**\n",
    "\n",
    "\n"
   ]
  },
  {
   "cell_type": "raw",
   "metadata": {},
   "source": [
    "# training our model \n",
    "from sklearn.linear_model import LinearRegression\n",
    "regressor=LinearRegression()\n",
    "regressor.fit(x_train,y_train)"
   ]
  },
  {
   "cell_type": "raw",
   "metadata": {},
   "source": [
    "# predicting the results:\n",
    "y_pred=regressor.predict(x_test)\n"
   ]
  },
  {
   "cell_type": "markdown",
   "metadata": {},
   "source": [
    "**After getting y_pred we will check how much they are deviating from the actual values**\n"
   ]
  },
  {
   "cell_type": "raw",
   "metadata": {},
   "source": [
    "# Checking manually whether predictions are close enough or not\n",
    "print(y_test)\n",
    "print(y_pred)\n",
    "\n",
    "# For big data manual checking is not a good approch lets create confusion matrix for this.\n",
    "from sklearn.metrics import confusion_matrix, classification_report\n",
    "confusion_matrix(y_test, y_predicted)"
   ]
  },
  {
   "cell_type": "markdown",
   "metadata": {},
   "source": [
    "**So if the values are comming close enough that means our model is giving good predictions**"
   ]
  },
  {
   "cell_type": "markdown",
   "metadata": {},
   "source": [
    "**Making a single prediction (for example whetherthe person will be satisfied or not in the firm which is having profit=172261.83 , per_blue_workers=45, ave_salary=22000)**"
   ]
  },
  {
   "cell_type": "raw",
   "metadata": {},
   "source": [
    "print(regressor.predict([[172261.83, 45,22000]]))"
   ]
  },
  {
   "cell_type": "markdown",
   "metadata": {},
   "source": [
    "**The outcome will come in terms of 0,1 or 2 Where:**\n",
    "- 0= unsatisfied\n",
    "- 1= neutral\n",
    "- 2=satisfied\n",
    "\n",
    "**If satisfaction column is linearly dependent on others than this model will work fine othewise we will go for the next model that is Ploynomial Regression.**"
   ]
  },
  {
   "cell_type": "code",
   "execution_count": null,
   "metadata": {},
   "outputs": [],
   "source": []
  }
 ],
 "metadata": {
  "kernelspec": {
   "display_name": "Python 3",
   "language": "python",
   "name": "python3"
  },
  "language_info": {
   "codemirror_mode": {
    "name": "ipython",
    "version": 3
   },
   "file_extension": ".py",
   "mimetype": "text/x-python",
   "name": "python",
   "nbconvert_exporter": "python",
   "pygments_lexer": "ipython3",
   "version": "3.8.5"
  }
 },
 "nbformat": 4,
 "nbformat_minor": 4
}
